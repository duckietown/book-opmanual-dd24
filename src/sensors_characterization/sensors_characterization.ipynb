{
 "cells": [
  {
   "cell_type": "code",
   "execution_count": 2,
   "metadata": {},
   "outputs": [
    {
     "name": "stdout",
     "output_type": "stream",
     "text": [
      "[INFO]  Successfully created the data folder tof_imu_altitude_nodes_characterization_ground.\n"
     ]
    },
    {
     "data": {
      "text/html": [
       "<div>\n",
       "<style scoped>\n",
       "    .dataframe tbody tr th:only-of-type {\n",
       "        vertical-align: middle;\n",
       "    }\n",
       "\n",
       "    .dataframe tbody tr th {\n",
       "        vertical-align: top;\n",
       "    }\n",
       "\n",
       "    .dataframe thead th {\n",
       "        text-align: right;\n",
       "    }\n",
       "</style>\n",
       "<table border=\"1\" class=\"dataframe\">\n",
       "  <thead>\n",
       "    <tr style=\"text-align: right;\">\n",
       "      <th></th>\n",
       "      <th>Topics</th>\n",
       "      <th>Types</th>\n",
       "      <th>Message Count</th>\n",
       "      <th>Frequency</th>\n",
       "    </tr>\n",
       "  </thead>\n",
       "  <tbody>\n",
       "    <tr>\n",
       "      <th>0</th>\n",
       "      <td>/endeavour/altitude_node/altitude</td>\n",
       "      <td>sensor_msgs/Range</td>\n",
       "      <td>560</td>\n",
       "      <td>28.127416</td>\n",
       "    </tr>\n",
       "    <tr>\n",
       "      <th>1</th>\n",
       "      <td>/endeavour/bottom_tof_driver_node/range</td>\n",
       "      <td>sensor_msgs/Range</td>\n",
       "      <td>555</td>\n",
       "      <td>28.070378</td>\n",
       "    </tr>\n",
       "    <tr>\n",
       "      <th>2</th>\n",
       "      <td>/endeavour/imu_node/data</td>\n",
       "      <td>sensor_msgs/Imu</td>\n",
       "      <td>989</td>\n",
       "      <td>50.403221</td>\n",
       "    </tr>\n",
       "  </tbody>\n",
       "</table>\n",
       "</div>"
      ],
      "text/plain": [
       "                                    Topics              Types  Message Count  \\\n",
       "0        /endeavour/altitude_node/altitude  sensor_msgs/Range            560   \n",
       "1  /endeavour/bottom_tof_driver_node/range  sensor_msgs/Range            555   \n",
       "2                 /endeavour/imu_node/data    sensor_msgs/Imu            989   \n",
       "\n",
       "   Frequency  \n",
       "0  28.127416  \n",
       "1  28.070378  \n",
       "2  50.403221  "
      ]
     },
     "execution_count": 2,
     "metadata": {},
     "output_type": "execute_result"
    }
   ],
   "source": [
    "from bagpy import bagreader\n",
    "import pandas as pd\n",
    "import numpy as np\n",
    "\n",
    "\n",
    "# Path to your rosbag file\n",
    "bag_file = 'bags/tof_imu_altitude_nodes_characterization_ground.bag'\n",
    "# Topic of interest\n",
    "topic_name = '/endeavour/imu_node/data'\n",
    "\n",
    "# Read the bag into a pandas dataframe\n",
    "b = bagreader(bag_file)\n",
    "\n",
    "# Print the topics\n",
    "b.topic_table"
   ]
  },
  {
   "cell_type": "code",
   "execution_count": 3,
   "metadata": {},
   "outputs": [
    {
     "name": "stdout",
     "output_type": "stream",
     "text": [
      "Mean for /endeavour/altitude_node/altitude: 0.00000 [m], Standard deviation: 0.00000 [m], Relative standard deviation: nan [%]\n",
      "Mean for /endeavour/bottom_tof_driver_node/range: 0.00843 [m], Standard deviation: 0.00158 [m], Relative standard deviation: 18.70 [%]\n",
      "Mean for /endeavour/imu_node/data linear acceleration x: 0.00000 [m/s^2], Standard deviation: 0.00000 [m/s^2], Relative standard deviation: nan [%]\n",
      "Mean for /endeavour/imu_node/data angular velocity x: 0.00007 [rad/s], Standard deviation: 0.00073 [rad/s], Relative standard deviation: 1110.04 [%]\n",
      "Mean for /endeavour/imu_node/data linear acceleration y: 0.00000 [m/s^2], Standard deviation: 0.00000 [m/s^2], Relative standard deviation: nan [%]\n",
      "Mean for /endeavour/imu_node/data angular velocity y: 0.00001 [rad/s], Standard deviation: 0.00078 [rad/s], Relative standard deviation: 6866.87 [%]\n",
      "Mean for /endeavour/imu_node/data linear acceleration z: 0.00000 [m/s^2], Standard deviation: 0.00000 [m/s^2], Relative standard deviation: nan [%]\n",
      "Mean for /endeavour/imu_node/data angular velocity z: -0.00001 [rad/s], Standard deviation: 0.00071 [rad/s], Relative standard deviation: 10542.43 [%]\n",
      "Mean for /endeavour/imu_node/data roll: 0.07543 [deg], Standard deviation: 0.01885 [deg], Relative standard deviation: 24.99 [%]\n",
      "Mean for /endeavour/imu_node/data pitch: -0.10858 [deg], Standard deviation: 0.01972 [deg], Relative standard deviation: 18.17 [%]\n",
      "Mean for /endeavour/imu_node/data yaw: 90.02533 [deg], Standard deviation: 0.00634 [deg], Relative standard deviation: 0.01 [%]\n"
     ]
    }
   ],
   "source": [
    "from scipy.spatial.transform import Rotation as R\n",
    "\n",
    "# For each topic, extract the messages and compute the mean, standard deviation, and relative standard deviation\n",
    "for topic_name in b.topic_table['Topics']:\n",
    "    df = pd.read_csv(b.message_by_topic(topic_name))\n",
    "\n",
    "    if b.topic_table[b.topic_table['Topics'] == topic_name]['Types'].values[0] == 'sensor_msgs/Range':\n",
    "        mean = df['range'].mean()\n",
    "        std = df['range'].std()\n",
    "        rsd = (std / np.abs(mean)) * 100 if mean != 0 else np.nan\n",
    "    \n",
    "        print(f'Mean for {topic_name}: {mean:.5f} [m], Standard deviation: {std:.5f} [m], Relative standard deviation: {rsd:.2f} [%]')\n",
    "        \n",
    "    if b.topic_table[b.topic_table['Topics'] == topic_name]['Types'].values[0] == 'sensor_msgs/Imu':\n",
    "        # Compute the mean, standard deviation, and relative standard deviation on each axis for the linear acceleration, angular velocity\n",
    "        for axis in ['x', 'y', 'z']:\n",
    "            mean = df[f'linear_acceleration.{axis}'].mean()\n",
    "            std = df[f'linear_acceleration.{axis}'].std()\n",
    "            rsd = (std / np.abs(mean)) * 100 if mean != 0 else np.nan\n",
    "            print(f'Mean for {topic_name} linear acceleration {axis}: {mean:.5f} [m/s^2], Standard deviation: {std:.5f} [m/s^2], Relative standard deviation: {rsd:.2f} [%]')\n",
    "            \n",
    "            mean = df[f'angular_velocity.{axis}'].mean()\n",
    "            std = df[f'angular_velocity.{axis}'].std()\n",
    "            rsd = (std / np.abs(mean)) * 100 if mean != 0 else np.nan\n",
    "            print(f'Mean for {topic_name} angular velocity {axis}: {mean:.5f} [rad/s], Standard deviation: {std:.5f} [rad/s], Relative standard deviation: {rsd:.2f} [%]')\n",
    "            \n",
    "        # Convert the quaternion \n",
    "        # Extract quaternions from the DataFrame (w, x, y, z)\n",
    "        quaternions = df[['orientation.w', 'orientation.x', 'orientation.y', 'orientation.z']].to_numpy()\n",
    "\n",
    "        # Convert quaternions to Euler angles (in degrees)\n",
    "        rot = R.from_quat(quaternions)\n",
    "        euler_angles = rot.as_euler('zyx', degrees=True)  # Convert to degrees (roll, pitch, yaw)\n",
    "\n",
    "        # Add Euler angles as new columns in the DataFrame\n",
    "        df['roll'] = euler_angles[:, 0]\n",
    "        df['pitch'] = euler_angles[:, 1]\n",
    "        df['yaw'] = euler_angles[:, 2]\n",
    "        \n",
    "        # Compute the mean, standard deviation, and relative standard deviation on each axis for the Euler angles\n",
    "        for axis in ['roll', 'pitch', 'yaw']:\n",
    "            mean = df[axis].mean()\n",
    "            std = df[axis].std()\n",
    "            rsd = (std / np.abs(mean)) * 100 if mean != 0 else np.nan\n",
    "            print(f'Mean for {topic_name} {axis}: {mean:.5f} [deg], Standard deviation: {std:.5f} [deg], Relative standard deviation: {rsd:.2f} [%]')"
   ]
  },
  {
   "cell_type": "markdown",
   "metadata": {},
   "source": [
    "# Measuring the frequency of topics\n",
    "\n",
    "The frequency of the measurements of the IMU and Time of Flight sensors is measured using the `rostopic hz` command. The following image contains the output of the command:\n",
    "\n",
    "![Measurement of the topics frequency](../_images/datasheets/sensors_topics_frequency.png)\n",
    "\n",
    "As visible in the image the frequencies have small standard deviations compared to the average rate."
   ]
  }
 ],
 "metadata": {
  "kernelspec": {
   "display_name": ".venv",
   "language": "python",
   "name": "python3"
  },
  "language_info": {
   "codemirror_mode": {
    "name": "ipython",
    "version": 3
   },
   "file_extension": ".py",
   "mimetype": "text/x-python",
   "name": "python",
   "nbconvert_exporter": "python",
   "pygments_lexer": "ipython3",
   "version": "3.12.3"
  }
 },
 "nbformat": 4,
 "nbformat_minor": 2
}
